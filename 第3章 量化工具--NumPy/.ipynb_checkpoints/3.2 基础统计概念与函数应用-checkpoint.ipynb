{
 "cells": [
  {
   "cell_type": "markdown",
   "metadata": {},
   "source": [
    "## 3.2 基础统计概念与函数使用"
   ]
  },
  {
   "cell_type": "code",
   "execution_count": 1,
   "metadata": {},
   "outputs": [],
   "source": [
    "# 期望：np.mean()\n",
    "# 方差：np.var()\n",
    "# 标准差：np.std()"
   ]
  },
  {
   "cell_type": "code",
   "execution_count": 2,
   "metadata": {},
   "outputs": [],
   "source": [
    "import numpy as np"
   ]
  },
  {
   "cell_type": "code",
   "execution_count": 3,
   "metadata": {},
   "outputs": [],
   "source": [
    "# 200只股票\n",
    "stock_cnt = 200\n",
    "# 504个交易日\n",
    "view_days = 504\n",
    "# 生成服从正态分布：均值期望=0，标准差=1的序列\n",
    "stock_day_change = np.random.standard_normal((stock_cnt, view_days))"
   ]
  },
  {
   "cell_type": "code",
   "execution_count": 4,
   "metadata": {},
   "outputs": [
    {
     "data": {
      "text/plain": [
       "array([[ 0.32064088, -0.49430312,  0.29673826, -0.42738173],\n",
       "       [-0.87621296,  1.05739632,  0.21948014, -1.00389506],\n",
       "       [ 0.70424031, -1.04059982,  1.63519645, -0.01556391],\n",
       "       [-0.59728724,  1.7887725 ,  0.06049866, -0.98189547]])"
      ]
     },
     "execution_count": 4,
     "metadata": {},
     "output_type": "execute_result"
    }
   ],
   "source": [
    "stock_day_change_four = stock_day_change[:4, :4]\n",
    "stock_day_change_four"
   ]
  },
  {
   "cell_type": "markdown",
   "metadata": {},
   "source": [
    "### 3.2.1 基础统计函数的使用"
   ]
  },
  {
   "cell_type": "code",
   "execution_count": 5,
   "metadata": {},
   "outputs": [
    {
     "name": "stdout",
     "output_type": "stream",
     "text": [
      "最大涨幅[0.32064088 1.05739632 1.63519645 1.7887725 ]\n"
     ]
    }
   ],
   "source": [
    "print('最大涨幅{}'.format(np.max(stock_day_change_four, axis=1)))"
   ]
  },
  {
   "cell_type": "code",
   "execution_count": 6,
   "metadata": {},
   "outputs": [
    {
     "name": "stdout",
     "output_type": "stream",
     "text": [
      "最大跌幅[-0.49430312 -1.00389506 -1.04059982 -0.98189547]\n",
      "振幅幅度[0.3855854  0.84422167 0.97995085 1.06136716]\n",
      "平均涨跌[-0.07607643 -0.15080789  0.32081826  0.06752211]\n"
     ]
    }
   ],
   "source": [
    "print('最大跌幅{}'.format(np.min(stock_day_change_four, axis=1)))\n",
    "print('振幅幅度{}'.format(np.std(stock_day_change_four, axis=1)))\n",
    "print('平均涨跌{}'.format(np.mean(stock_day_change_four, axis=1)))"
   ]
  },
  {
   "cell_type": "code",
   "execution_count": 7,
   "metadata": {},
   "outputs": [
    {
     "name": "stdout",
     "output_type": "stream",
     "text": [
      "最大涨幅[ 0.70424031  1.7887725   1.63519645 -0.01556391]\n",
      "最大跌幅[-0.87621296 -1.04059982  0.06049866 -1.00389506]\n",
      "振幅幅度[0.64671312 1.14183219 0.63059739 0.41235044]\n",
      "平均涨跌[-0.11215475  0.32781647  0.55297838 -0.60718404]\n"
     ]
    }
   ],
   "source": [
    "print('最大涨幅{}'.format(np.max(stock_day_change_four, axis=0)))\n",
    "print('最大跌幅{}'.format(np.min(stock_day_change_four, axis=0)))\n",
    "print('振幅幅度{}'.format(np.std(stock_day_change_four, axis=0)))\n",
    "print('平均涨跌{}'.format(np.mean(stock_day_change_four, axis=0)))"
   ]
  },
  {
   "cell_type": "code",
   "execution_count": 8,
   "metadata": {},
   "outputs": [
    {
     "name": "stdout",
     "output_type": "stream",
     "text": [
      "最大涨幅股票[2 3 2 2]\n"
     ]
    }
   ],
   "source": [
    "print('最大涨幅股票{}'.format(np.argmax(stock_day_change_four, axis=0)))"
   ]
  },
  {
   "cell_type": "code",
   "execution_count": 9,
   "metadata": {},
   "outputs": [
    {
     "name": "stdout",
     "output_type": "stream",
     "text": [
      "最大跌幅股票[1 2 3 1]\n"
     ]
    }
   ],
   "source": [
    "print('最大跌幅股票{}'.format(np.argmin(stock_day_change_four, axis=0)))"
   ]
  },
  {
   "cell_type": "markdown",
   "metadata": {},
   "source": [
    "### 3.2.2基础统计概念"
   ]
  },
  {
   "cell_type": "markdown",
   "metadata": {},
   "source": [
    "#### 1 期望"
   ]
  },
  {
   "cell_type": "code",
   "execution_count": 10,
   "metadata": {},
   "outputs": [],
   "source": [
    "# mean(X) = μ=∑i pi*xi"
   ]
  },
  {
   "cell_type": "markdown",
   "metadata": {},
   "source": [
    "#### 2 方差"
   ]
  },
  {
   "cell_type": "code",
   "execution_count": 11,
   "metadata": {},
   "outputs": [],
   "source": [
    "# Var(X) = σ^2 = mean((X-μ)^2)"
   ]
  },
  {
   "cell_type": "markdown",
   "metadata": {},
   "source": [
    "#### 3 标准差"
   ]
  },
  {
   "cell_type": "code",
   "execution_count": 12,
   "metadata": {},
   "outputs": [],
   "source": [
    "# Std(X) = σ"
   ]
  },
  {
   "cell_type": "code",
   "execution_count": 13,
   "metadata": {},
   "outputs": [],
   "source": [
    "a_investor = np.random.normal(loc=100, scale=50, size=(100,1))\n",
    "b_investor = np.random.normal(loc=100, scale=20, size=(100,1))"
   ]
  },
  {
   "cell_type": "code",
   "execution_count": 14,
   "metadata": {},
   "outputs": [
    {
     "name": "stdout",
     "output_type": "stream",
     "text": [
      "a交易者期望99.29元，标准差50.34，方差2534.20\n",
      "b交易者期望97.61元，标准差20.68，方差427.53\n"
     ]
    }
   ],
   "source": [
    "# a交易者\n",
    "print('a交易者期望{0:.2f}元，标准差{1:.2f}，方差{2:.2f}'.format(a_investor.mean(), a_investor.std(), a_investor.var()))\n",
    "# b交易者\n",
    "print('b交易者期望{0:.2f}元，标准差{1:.2f}，方差{2:.2f}'.format(b_investor.mean(), b_investor.std(), b_investor.var()))"
   ]
  },
  {
   "cell_type": "code",
   "execution_count": 15,
   "metadata": {},
   "outputs": [],
   "source": [
    "import matplotlib.pyplot as plt  "
   ]
  },
  {
   "cell_type": "code",
   "execution_count": 16,
   "metadata": {},
   "outputs": [
    {
     "data": {
      "text/plain": [
       "<matplotlib.lines.Line2D at 0x2e307c05f48>"
      ]
     },
     "execution_count": 16,
     "metadata": {},
     "output_type": "execute_result"
    },
    {
     "data": {
      "image/png": "[encoded data removed]",
      "text/plain": [
       "<Figure size 432x288 with 1 Axes>"
      ]
     },
     "metadata": {
      "needs_background": "light"
     },
     "output_type": "display_data"
    }
   ],
   "source": [
    "# a交易者期望\n",
    "a_mean = a_investor.mean()\n",
    "# a交易者标准差\n",
    "a_std = a_investor.std()\n",
    "# 收益绘制曲线\n",
    "plt.plot(a_investor)\n",
    "# 水平直线 上线\n",
    "plt.axhline(a_mean + a_std, color='r')\n",
    "# 水平直线 均值期望线\n",
    "plt.axhline(a_mean, color='y')\n",
    "# 水平直线 下线\n",
    "plt.axhline(a_mean - a_std, color = 'g')"
   ]
  },
  {
   "cell_type": "code",
   "execution_count": 17,
   "metadata": {},
   "outputs": [
    {
     "data": {
      "text/plain": [
       "<matplotlib.lines.Line2D at 0x2e30ae696c8>"
      ]
     },
     "execution_count": 17,
     "metadata": {},
     "output_type": "execute_result"
    },
    {
     "data": {
      "image/png": "[encoded data removed]",
      "text/plain": [
       "<Figure size 432x288 with 1 Axes>"
      ]
     },
     "metadata": {
      "needs_background": "light"
     },
     "output_type": "display_data"
    }
   ],
   "source": [
    "# b交易者期望\n",
    "b_mean = b_investor.mean()\n",
    "# a交易者标准差\n",
    "b_std = b_investor.std()\n",
    "# 收益绘制曲线\n",
    "plt.plot(b_investor)\n",
    "# 水平直线 上线\n",
    "plt.axhline(b_mean + b_std, color='r')\n",
    "# 水平直线 均值期望线\n",
    "plt.axhline(b_mean, color='y')\n",
    "# 水平直线 下线\n",
    "plt.axhline(b_mean - b_std, color = 'g')"
   ]
  },
  {
   "cell_type": "markdown",
   "metadata": {},
   "source": [
    "#### 4 偏度"
   ]
  },
  {
   "cell_type": "code",
   "execution_count": null,
   "metadata": {},
   "outputs": [],
   "source": [
    "# Skew:偏度，密度函数曲线尾部的相对长度，由公式得名三阶矩\n",
    "# skewness = ((x - mean) ** 3).mean / std ** 3"
   ]
  },
  {
   "cell_type": "markdown",
   "metadata": {},
   "source": [
    "#### 5 峰度"
   ]
  },
  {
   "cell_type": "code",
   "execution_count": null,
   "metadata": {},
   "outputs": [],
   "source": [
    "# Kurt:峰度，反映频数分布曲线顶端尖峭或扁平程度的指标，有公式得名四阶矩\n",
    "# kurtosis = ((x - mean) ** 4).mean / std ** 4"
   ]
  }
 ],
 "metadata": {
  "kernelspec": {
   "display_name": "Python 3",
   "language": "python",
   "name": "python3"
  },
  "language_info": {
   "codemirror_mode": {
    "name": "ipython",
    "version": 3
   },
   "file_extension": ".py",
   "mimetype": "text/x-python",
   "name": "python",
   "nbconvert_exporter": "python",
   "pygments_lexer": "ipython3",
   "version": "3.7.6"
  }
 },
 "nbformat": 4,
 "nbformat_minor": 4
}

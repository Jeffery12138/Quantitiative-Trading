{
 "cells": [
  {
   "cell_type": "markdown",
   "metadata": {},
   "source": [
    "### 3.4.1 伯努利分布基础概念"
   ]
  },
  {
   "cell_type": "code",
   "execution_count": 1,
   "metadata": {},
   "outputs": [],
   "source": [
    "import numpy as np"
   ]
  },
  {
   "cell_type": "code",
   "execution_count": 2,
   "metadata": {},
   "outputs": [],
   "source": [
    "import matplotlib.pyplot as plt "
   ]
  },
  {
   "cell_type": "code",
   "execution_count": 3,
   "metadata": {},
   "outputs": [
    {
     "data": {
      "text/plain": [
       "0"
      ]
     },
     "execution_count": 3,
     "metadata": {},
     "output_type": "execute_result"
    }
   ],
   "source": [
    "# 在伯努利分布下，随机变量只有两个可能的取值：即1和0。如果随机变量取值1的概率为p，则随机变量取值为0的概率为1-p\n",
    "np.random.binomial(1, 0.5)"
   ]
  },
  {
   "cell_type": "markdown",
   "metadata": {},
   "source": [
    "### 3.4.2 实例2：如何在交易中获取优势"
   ]
  },
  {
   "cell_type": "code",
   "execution_count": 4,
   "metadata": {},
   "outputs": [],
   "source": [
    "# 设置100个赌徒\n",
    "gamblers = 100\n",
    "def casino(win_rate, win_once=1, loss_once=1, commission=0.01):\n",
    "    \"\"\"\n",
    "    赌场：简单设定每个赌徒都有1000000元，并且每个赌徒都想在赌场玩10000000次，但是没钱了就别想玩了\n",
    "    win_rate：输赢的概率\n",
    "    win_once：每次赢得钱数\n",
    "    loss_once：每次输的钱数\n",
    "    commission：手续费这里简单设置为0.01（1%）\n",
    "    \"\"\"\n",
    "    my_money = 1000\n",
    "    play_cnt = 100000\n",
    "    commission = commission\n",
    "    for _ in np.arange(0, play_cnt):\n",
    "        # 使用伯努利分布，根据win_rate来获取输赢\n",
    "        w = np.random.binomial(1, win_rate)\n",
    "        if w:\n",
    "            # 赢了+ win_once\n",
    "            my_money += win_once\n",
    "        else:\n",
    "            # 输了 - loss_once\n",
    "            my_money -= loss_once\n",
    "        # 手续费\n",
    "        my_money -= commission\n",
    "        if my_money <= 0:\n",
    "            # 没钱就别玩了，不赊账\n",
    "            break\n",
    "    return my_money"
   ]
  },
  {
   "cell_type": "code",
   "execution_count": 5,
   "metadata": {},
   "outputs": [
    {
     "data": {
      "text/plain": [
       "(array([ 1.,  0.,  0.,  2.,  1.,  0.,  1.,  1.,  2.,  2.,  4.,  6.,  4.,\n",
       "        10.,  7.,  3., 11.,  5.,  2.,  9.,  9.,  4.,  3.,  0.,  6.,  3.,\n",
       "         1.,  1.,  0.,  2.]),\n",
       " array([   0. ,   57.6,  115.2,  172.8,  230.4,  288. ,  345.6,  403.2,\n",
       "         460.8,  518.4,  576. ,  633.6,  691.2,  748.8,  806.4,  864. ,\n",
       "         921.6,  979.2, 1036.8, 1094.4, 1152. , 1209.6, 1267.2, 1324.8,\n",
       "        1382.4, 1440. , 1497.6, 1555.2, 1612.8, 1670.4, 1728. ]),\n",
       " <a list of 30 Patch objects>)"
      ]
     },
     "execution_count": 5,
     "metadata": {},
     "output_type": "execute_result"
    },
    {
     "data": {
      "image/png": "[encoded data removed]",
      "text/plain": [
       "<Figure size 432x288 with 1 Axes>"
      ]
     },
     "metadata": {
      "needs_background": "light"
     },
     "output_type": "display_data"
    }
   ],
   "source": [
    "# 天堂赌场，没有‘老千’，也没有抽头\n",
    "# 100个赌徒进场天堂赌场，胜率0.5， 赔率1，还没手续费\n",
    "heaven_moneys = [casino(0.5, commission=0) for _ in  np.arange(0, gamblers)]\n",
    "plt.hist(heaven_moneys, bins=30)"
   ]
  },
  {
   "cell_type": "code",
   "execution_count": 6,
   "metadata": {},
   "outputs": [
    {
     "data": {
      "text/plain": [
       "(array([  0.,   0.,   0.,   0.,   0.,   0.,   0.,   0.,   0.,   0.,   0.,\n",
       "          0.,   0.,   0.,   0., 100.,   0.,   0.,   0.,   0.,   0.,   0.,\n",
       "          0.,   0.,   0.,   0.,   0.,   0.,   0.,   0.]),\n",
       " array([-0.5       , -0.46666667, -0.43333333, -0.4       , -0.36666667,\n",
       "        -0.33333333, -0.3       , -0.26666667, -0.23333333, -0.2       ,\n",
       "        -0.16666667, -0.13333333, -0.1       , -0.06666667, -0.03333333,\n",
       "         0.        ,  0.03333333,  0.06666667,  0.1       ,  0.13333333,\n",
       "         0.16666667,  0.2       ,  0.23333333,  0.26666667,  0.3       ,\n",
       "         0.33333333,  0.36666667,  0.4       ,  0.43333333,  0.46666667,\n",
       "         0.5       ]),\n",
       " <a list of 30 Patch objects>)"
      ]
     },
     "execution_count": 6,
     "metadata": {},
     "output_type": "execute_result"
    },
    {
     "data": {
      "image/png": "[encoded data removed]",
      "text/plain": [
       "<Figure size 432x288 with 1 Axes>"
      ]
     },
     "metadata": {
      "needs_background": "light"
     },
     "output_type": "display_data"
    }
   ],
   "source": [
    "# 假设没有抽头，有‘老千’，导致胜率只能达到0.4即40%\n",
    "# 100个赌徒进场开始，胜率0.4，赔率1，没手续费\n",
    "cheat_moneys = [casino(0.4, commission=0) for _ in np.arange(0, gamblers)]\n",
    "plt.hist(cheat_moneys, bins=30)"
   ]
  },
  {
   "cell_type": "code",
   "execution_count": 7,
   "metadata": {},
   "outputs": [
    {
     "data": {
      "text/plain": [
       "(array([60.,  2.,  4.,  1.,  0.,  2.,  3.,  3.,  2.,  3.,  2.,  0.,  0.,\n",
       "         4.,  3.,  0.,  2.,  1.,  1.,  1.,  2.,  1.,  0.,  0.,  0.,  0.,\n",
       "         1.,  1.,  0.,  1.]),\n",
       " array([ -1.01      ,  18.89033333,  38.79066667,  58.691     ,\n",
       "         78.59133333,  98.49166667, 118.392     , 138.29233333,\n",
       "        158.19266667, 178.093     , 197.99333333, 217.89366667,\n",
       "        237.794     , 257.69433333, 277.59466667, 297.495     ,\n",
       "        317.39533333, 337.29566667, 357.196     , 377.09633333,\n",
       "        396.99666667, 416.897     , 436.79733333, 456.69766667,\n",
       "        476.598     , 496.49833333, 516.39866667, 536.299     ,\n",
       "        556.19933333, 576.09966667, 596.        ]),\n",
       " <a list of 30 Patch objects>)"
      ]
     },
     "execution_count": 7,
     "metadata": {},
     "output_type": "execute_result"
    },
    {
     "data": {
      "image/png": "[encoded data removed]",
      "text/plain": [
       "<Figure size 432x288 with 1 Axes>"
      ]
     },
     "metadata": {
      "needs_background": "light"
     },
     "output_type": "display_data"
    }
   ],
   "source": [
    "# 有抽头，没有‘老千’，手续费0.01\n",
    "# 100个赌徒进场开始，胜率0.5，赔率1，手续费0.01\n",
    "commission_moneys = [casino(0.5, commission=0.01) for _ in np.arange(0, gamblers)]\n",
    "plt.hist(commission_moneys, bins=30)"
   ]
  },
  {
   "cell_type": "code",
   "execution_count": 8,
   "metadata": {},
   "outputs": [
    {
     "data": {
      "text/plain": [
       "(array([ 1.,  0.,  0.,  0.,  0.,  0.,  0.,  2.,  2.,  3.,  3.,  6.,  7.,\n",
       "         1.,  9.,  8., 11.,  5.,  5.,  3., 11.,  2.,  3., 10.,  2.,  3.,\n",
       "         1.,  0.,  0.,  2.]),\n",
       " array([ 832.        ,  900.2       ,  968.4       , 1036.6       ,\n",
       "        1104.8       , 1173.        , 1241.2       , 1309.4       ,\n",
       "        1377.6       , 1445.8       , 1514.        , 1582.2       ,\n",
       "        1650.4       , 1718.6       , 1786.79999999, 1854.99999999,\n",
       "        1923.19999999, 1991.39999999, 2059.59999999, 2127.79999999,\n",
       "        2195.99999999, 2264.19999999, 2332.39999999, 2400.59999999,\n",
       "        2468.79999999, 2536.99999999, 2605.19999999, 2673.39999999,\n",
       "        2741.59999999, 2809.79999999, 2877.99999999]),\n",
       " <a list of 30 Patch objects>)"
      ]
     },
     "execution_count": 8,
     "metadata": {},
     "output_type": "execute_result"
    },
    {
     "data": {
      "image/png": "[encoded data removed]",
      "text/plain": [
       "<Figure size 432x288 with 1 Axes>"
      ]
     },
     "metadata": {
      "needs_background": "light"
     },
     "output_type": "display_data"
    }
   ],
   "source": [
    "# win_once 1.0 ->1.02 loss_once 1.0 -> 0.98 赔率1.02/0.98 = 1.040816\n",
    "# 100个赌徒进场开始，胜率0.5， 赔率1.04， 手续费0.01\n",
    "moneys = [casino(0.5, commission=0.01, win_once=1.02, loss_once=0.98) for _ in np.arange(0, gamblers)]\n",
    "plt.hist(moneys, bins=30)"
   ]
  },
  {
   "cell_type": "code",
   "execution_count": 9,
   "metadata": {},
   "outputs": [
    {
     "data": {
      "text/plain": [
       "(array([3., 4., 4., 5., 2., 3., 3., 3., 5., 4., 1., 3., 2., 1., 6., 3., 6.,\n",
       "        4., 3., 4., 2., 3., 4., 1., 3., 1., 4., 5., 4., 4.]),\n",
       " array([-0.98 , -0.948, -0.916, -0.884, -0.852, -0.82 , -0.788, -0.756,\n",
       "        -0.724, -0.692, -0.66 , -0.628, -0.596, -0.564, -0.532, -0.5  ,\n",
       "        -0.468, -0.436, -0.404, -0.372, -0.34 , -0.308, -0.276, -0.244,\n",
       "        -0.212, -0.18 , -0.148, -0.116, -0.084, -0.052, -0.02 ]),\n",
       " <a list of 30 Patch objects>)"
      ]
     },
     "execution_count": 9,
     "metadata": {},
     "output_type": "execute_result"
    },
    {
     "data": {
      "image/png": "[encoded data removed]",
      "text/plain": [
       "<Figure size 432x288 with 1 Axes>"
      ]
     },
     "metadata": {
      "needs_background": "light"
     },
     "output_type": "display_data"
    }
   ],
   "source": [
    "# 100个赌徒进场开始，胜率0.45，赔率1.04， 手续费0.01\n",
    "moneys = [casino(0.45, commission=0.01, win_once=1.02, loss_once=0.98) for _ in np.arange(0, gamblers)]\n",
    "plt.hist(moneys, bins=30)"
   ]
  }
 ],
 "metadata": {
  "kernelspec": {
   "display_name": "Python 3",
   "language": "python",
   "name": "python3"
  },
  "language_info": {
   "codemirror_mode": {
    "name": "ipython",
    "version": 3
   },
   "file_extension": ".py",
   "mimetype": "text/x-python",
   "name": "python",
   "nbconvert_exporter": "python",
   "pygments_lexer": "ipython3",
   "version": "3.7.6"
  }
 },
 "nbformat": 4,
 "nbformat_minor": 4
}

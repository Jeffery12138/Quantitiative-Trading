{
 "cells": [
  {
   "cell_type": "markdown",
   "metadata": {},
   "source": [
    "## 3.1并行化思想与基础操作"
   ]
  },
  {
   "cell_type": "markdown",
   "metadata": {},
   "source": [
    "### 3.1.1并行化思想"
   ]
  },
  {
   "cell_type": "code",
   "execution_count": 1,
   "metadata": {},
   "outputs": [],
   "source": [
    "# 官方推荐引用numpy\n",
    "import numpy as np"
   ]
  },
  {
   "cell_type": "code",
   "execution_count": 2,
   "metadata": {},
   "outputs": [
    {
     "name": "stdout",
     "output_type": "stream",
     "text": [
      "5.3 ms ± 334 µs per loop (mean ± std. dev. of 7 runs, 100 loops each)\n"
     ]
    }
   ],
   "source": [
    "normal_list = range(10000)\n",
    "%timeit [i**2 for i in normal_list]"
   ]
  },
  {
   "cell_type": "code",
   "execution_count": 3,
   "metadata": {},
   "outputs": [
    {
     "name": "stdout",
     "output_type": "stream",
     "text": [
      "8.97 µs ± 397 ns per loop (mean ± std. dev. of 7 runs, 100000 loops each)\n"
     ]
    }
   ],
   "source": [
    "np_list = np.arange(10000)\n",
    "%timeit np_list**2"
   ]
  },
  {
   "cell_type": "code",
   "execution_count": 4,
   "metadata": {},
   "outputs": [
    {
     "name": "stdout",
     "output_type": "stream",
     "text": [
      "[3. 3. 3. 3. 3.]\n",
      "[1, 1, 1, 1, 1, 1, 1, 1, 1, 1, 1, 1, 1, 1, 1] 15\n"
     ]
    }
   ],
   "source": [
    "# 注意 *3的操作被运作在每一个元素上\n",
    "np_list = np.ones(5) * 3\n",
    "print(np_list)\n",
    "# 普通列表把*3操作认为是整体性操作\n",
    "normal_list = [1, 1, 1, 1, 1] * 3\n",
    "print(normal_list, len(normal_list))"
   ]
  },
  {
   "cell_type": "markdown",
   "metadata": {},
   "source": [
    "### 3.1.2初始化操作"
   ]
  },
  {
   "cell_type": "code",
   "execution_count": 5,
   "metadata": {},
   "outputs": [
    {
     "data": {
      "text/plain": [
       "array([0., 0., 0., 0., 0., 0., 0., 0., 0., 0., 0., 0., 0., 0., 0., 0., 0.,\n",
       "       0., 0., 0., 0., 0., 0., 0., 0., 0., 0., 0., 0., 0., 0., 0., 0., 0.,\n",
       "       0., 0., 0., 0., 0., 0., 0., 0., 0., 0., 0., 0., 0., 0., 0., 0., 0.,\n",
       "       0., 0., 0., 0., 0., 0., 0., 0., 0., 0., 0., 0., 0., 0., 0., 0., 0.,\n",
       "       0., 0., 0., 0., 0., 0., 0., 0., 0., 0., 0., 0., 0., 0., 0., 0., 0.,\n",
       "       0., 0., 0., 0., 0., 0., 0., 0., 0., 0., 0., 0., 0., 0., 0.])"
      ]
     },
     "execution_count": 5,
     "metadata": {},
     "output_type": "execute_result"
    }
   ],
   "source": [
    "# 100个0\n",
    "np.zeros(100)"
   ]
  },
  {
   "cell_type": "code",
   "execution_count": 6,
   "metadata": {},
   "outputs": [
    {
     "data": {
      "text/plain": [
       "array([[0., 0.],\n",
       "       [0., 0.],\n",
       "       [0., 0.]])"
      ]
     },
     "execution_count": 6,
     "metadata": {},
     "output_type": "execute_result"
    }
   ],
   "source": [
    "# shape:3行2列 全是0\n",
    "np.zeros((3, 2))"
   ]
  },
  {
   "cell_type": "code",
   "execution_count": 7,
   "metadata": {},
   "outputs": [
    {
     "data": {
      "text/plain": [
       "array([[1., 1.],\n",
       "       [1., 1.],\n",
       "       [1., 1.]])"
      ]
     },
     "execution_count": 7,
     "metadata": {},
     "output_type": "execute_result"
    }
   ],
   "source": [
    "# shape:3行2列 全是1\n",
    "np.ones((3, 2))"
   ]
  },
  {
   "cell_type": "code",
   "execution_count": 8,
   "metadata": {},
   "outputs": [
    {
     "data": {
      "text/plain": [
       "array([[[6.23042070e-307, 4.67296746e-307, 1.69121096e-306],\n",
       "        [9.79101081e-307, 2.22522868e-306, 1.42418987e-306],\n",
       "        [1.37961641e-306, 1.60220528e-306, 1.24611266e-306]],\n",
       "\n",
       "       [[9.34598925e-307, 1.24612081e-306, 1.11260755e-306],\n",
       "        [1.60220393e-306, 1.51320640e-306, 9.34609790e-307],\n",
       "        [1.86921279e-306, 1.24610723e-306, 2.56765117e-312]]])"
      ]
     },
     "execution_count": 8,
     "metadata": {},
     "output_type": "execute_result"
    }
   ],
   "source": [
    "# shape: x=2, y=3, z=3 值随机\n",
    "np.empty((2, 3, 3))"
   ]
  },
  {
   "cell_type": "code",
   "execution_count": 9,
   "metadata": {},
   "outputs": [
    {
     "data": {
      "text/plain": [
       "array([1., 1., 1., 1., 1.])"
      ]
     },
     "execution_count": 9,
     "metadata": {},
     "output_type": "execute_result"
    }
   ],
   "source": [
    "# 初始化序列与np_list一样的shape，值全为1\n",
    "np.ones_like(np_list)"
   ]
  },
  {
   "cell_type": "code",
   "execution_count": 10,
   "metadata": {},
   "outputs": [
    {
     "data": {
      "text/plain": [
       "array([0., 0., 0., 0., 0.])"
      ]
     },
     "execution_count": 10,
     "metadata": {},
     "output_type": "execute_result"
    }
   ],
   "source": [
    "# 初始化序列与np_list一样的shape，值全为0\n",
    "np.zeros_like(np_list)"
   ]
  },
  {
   "cell_type": "code",
   "execution_count": 11,
   "metadata": {},
   "outputs": [
    {
     "data": {
      "text/plain": [
       "array([[1., 0., 0.],\n",
       "       [0., 1., 0.],\n",
       "       [0., 0., 1.]])"
      ]
     },
     "execution_count": 11,
     "metadata": {},
     "output_type": "execute_result"
    }
   ],
   "source": [
    "# eye()得到对角线全为1的单位矩阵\n",
    "np.eye(3)"
   ]
  },
  {
   "cell_type": "code",
   "execution_count": 12,
   "metadata": {},
   "outputs": [
    {
     "data": {
      "text/plain": [
       "array([[1, 2, 3, 4],\n",
       "       [5, 6, 7, 8]])"
      ]
     },
     "execution_count": 12,
     "metadata": {},
     "output_type": "execute_result"
    }
   ],
   "source": [
    "# 可以将普通list作为参数，通过np.array来初始化np array\n",
    "data = [[1, 2, 3, 4], [5, 6, 7, 8]]\n",
    "arr_np = np.array(data)\n",
    "arr_np"
   ]
  },
  {
   "cell_type": "code",
   "execution_count": 13,
   "metadata": {},
   "outputs": [
    {
     "data": {
      "text/plain": [
       "array([0. , 0.1, 0.2, 0.3, 0.4, 0.5, 0.6, 0.7, 0.8, 0.9, 1. ])"
      ]
     },
     "execution_count": 13,
     "metadata": {},
     "output_type": "execute_result"
    }
   ],
   "source": [
    "# linspace()等间隔生成序列，从0-1之间生成11个点（10等分）\n",
    "np.linspace(0, 1, 11)"
   ]
  },
  {
   "cell_type": "code",
   "execution_count": 14,
   "metadata": {},
   "outputs": [
    {
     "name": "stdout",
     "output_type": "stream",
     "text": [
      "(200, 504)\n",
      "[[ 0.22353348  0.62078822  0.43637755 -0.57670196 -0.51569826]]\n"
     ]
    }
   ],
   "source": [
    "# 200只股票\n",
    "stock_cnt = 200\n",
    "# 504个交易日\n",
    "view_days = 504\n",
    "# 生成服从正态分布：均值期望=0，标准差=1的序列\n",
    "stock_day_change = np.random.standard_normal((stock_cnt, view_days))\n",
    "# 打印shape：（200， 504）200行504列\n",
    "print(stock_day_change.shape)\n",
    "# 打印出第一只股票，前5个交易日的涨跌幅情况\n",
    "print(stock_day_change[0:1, :5])\n"
   ]
  },
  {
   "cell_type": "markdown",
   "metadata": {},
   "source": [
    "### 3.1.3索引选取和切片选择"
   ]
  },
  {
   "cell_type": "code",
   "execution_count": 15,
   "metadata": {},
   "outputs": [
    {
     "data": {
      "text/plain": [
       "array([[ 0.22353348,  0.62078822,  0.43637755, -0.57670196, -0.51569826],\n",
       "       [ 0.62478544,  0.0755934 , -0.13657937, -0.69076956, -0.9256024 ]])"
      ]
     },
     "execution_count": 15,
     "metadata": {},
     "output_type": "execute_result"
    }
   ],
   "source": [
    "# 0:2第一只、第二只股票， 0:5前5个交易日的涨跌幅数据\n",
    "stock_day_change[0:2, 0:5]"
   ]
  },
  {
   "cell_type": "code",
   "execution_count": 16,
   "metadata": {},
   "outputs": [
    {
     "data": {
      "text/plain": [
       "array([[-0.01455101,  0.67674347, -0.87916471,  0.15115891,  0.23403297],\n",
       "       [-1.51872267,  1.43092102,  2.51425444,  0.51147235,  0.32968961]])"
      ]
     },
     "execution_count": 16,
     "metadata": {},
     "output_type": "execute_result"
    }
   ],
   "source": [
    "# -2:倒数第一只，第二只股票，-5最后5个交易日的涨跌幅数据\n",
    "stock_day_change[-2:, -5:]"
   ]
  },
  {
   "cell_type": "code",
   "execution_count": 17,
   "metadata": {},
   "outputs": [
    {
     "data": {
      "text/plain": [
       "(array([[-0.01455101,  0.67674347, -0.87916471,  0.15115891,  0.23403297],\n",
       "        [-1.51872267,  1.43092102,  2.51425444,  0.51147235,  0.32968961]]),\n",
       " array([[ 0.22353348,  0.62078822,  0.43637755, -0.57670196, -0.51569826],\n",
       "        [ 0.62478544,  0.0755934 , -0.13657937, -0.69076956, -0.9256024 ]]))"
      ]
     },
     "execution_count": 17,
     "metadata": {},
     "output_type": "execute_result"
    }
   ],
   "source": [
    "# tmp = a\n",
    "tmp = stock_day_change[:2, :5].copy()\n",
    "# a = b\n",
    "stock_day_change[:2, :5] = stock_day_change[-2:, -5:]\n",
    "# b = tmp\n",
    "stock_day_change[-2:, -5:] = tmp\n",
    "stock_day_change[:2, :5], stock_day_change[-2:, -5:]"
   ]
  },
  {
   "cell_type": "markdown",
   "metadata": {},
   "source": [
    "### 3.1.4数据转换与规整"
   ]
  },
  {
   "cell_type": "code",
   "execution_count": 18,
   "metadata": {},
   "outputs": [
    {
     "name": "stdout",
     "output_type": "stream",
     "text": [
      "[[-0.01455101  0.67674347 -0.87916471  0.15115891  0.23403297]\n",
      " [-1.51872267  1.43092102  2.51425444  0.51147235  0.32968961]]\n"
     ]
    },
    {
     "data": {
      "text/plain": [
       "array([[ 0,  0,  0,  0,  0],\n",
       "       [-1,  1,  2,  0,  0]])"
      ]
     },
     "execution_count": 18,
     "metadata": {},
     "output_type": "execute_result"
    }
   ],
   "source": [
    "print(stock_day_change[:2, :5])\n",
    "stock_day_change[:2, :5].astype(int)"
   ]
  },
  {
   "cell_type": "code",
   "execution_count": 19,
   "metadata": {},
   "outputs": [
    {
     "data": {
      "text/plain": [
       "array([[-0.01,  0.68, -0.88,  0.15,  0.23],\n",
       "       [-1.52,  1.43,  2.51,  0.51,  0.33]])"
      ]
     },
     "execution_count": 19,
     "metadata": {},
     "output_type": "execute_result"
    }
   ],
   "source": [
    "# 规整float数据\n",
    "np.around(stock_day_change[:2, :5], 2)"
   ]
  },
  {
   "cell_type": "code",
   "execution_count": 26,
   "metadata": {},
   "outputs": [
    {
     "data": {
      "text/plain": [
       "array([[        nan,  0.67674347, -0.87916471,  0.15115891,  0.23403297],\n",
       "       [-1.51872267,  1.43092102,  2.51425444,  0.51147235,  0.32968961]])"
      ]
     },
     "execution_count": 26,
     "metadata": {},
     "output_type": "execute_result"
    }
   ],
   "source": [
    "# 使用copy()函数的目的是不修改原始序列\n",
    "tmp_test = stock_day_change[:2, :5].copy()\n",
    "# 将第一个元素改成nan\n",
    "tmp_test[0][0] = np.nan\n",
    "tmp_test"
   ]
  },
  {
   "cell_type": "code",
   "execution_count": 27,
   "metadata": {},
   "outputs": [
    {
     "data": {
      "text/plain": [
       "array([[ 0.        ,  0.67674347, -0.87916471,  0.15115891,  0.23403297],\n",
       "       [-1.51872267,  1.43092102,  2.51425444,  0.51147235,  0.32968961]])"
      ]
     },
     "execution_count": 27,
     "metadata": {},
     "output_type": "execute_result"
    }
   ],
   "source": [
    "# 使用np.nan_to_num()函数来用0填充na\n",
    "tmp_test = np.nan_to_num(tmp_test)\n",
    "tmp_test"
   ]
  },
  {
   "cell_type": "markdown",
   "metadata": {},
   "source": [
    "### 3.1.5逻辑条件进行数据筛选"
   ]
  },
  {
   "cell_type": "code",
   "execution_count": 30,
   "metadata": {},
   "outputs": [
    {
     "data": {
      "text/plain": [
       "array([[False,  True, False, False, False],\n",
       "       [False,  True,  True,  True, False]])"
      ]
     },
     "execution_count": 30,
     "metadata": {},
     "output_type": "execute_result"
    }
   ],
   "source": [
    "# 输出结构是bool的数组\n",
    "mask = stock_day_change[:2, :5] > 0.5\n",
    "mask"
   ]
  },
  {
   "cell_type": "code",
   "execution_count": 31,
   "metadata": {},
   "outputs": [
    {
     "data": {
      "text/plain": [
       "array([0.67674347, 1.43092102, 2.51425444, 0.51147235])"
      ]
     },
     "execution_count": 31,
     "metadata": {},
     "output_type": "execute_result"
    }
   ],
   "source": [
    "tmp_test = stock_day_change[:2, :5].copy()\n",
    "# 使用上述的mask数据筛选出符合条件的数组，即筛选mask中对应的index值为True的\n",
    "tmp_test[mask]"
   ]
  },
  {
   "cell_type": "code",
   "execution_count": 32,
   "metadata": {},
   "outputs": [
    {
     "data": {
      "text/plain": [
       "array([[-0.01455101,  1.        , -0.87916471,  0.15115891,  0.23403297],\n",
       "       [-1.51872267,  1.        ,  1.        ,  1.        ,  0.32968961]])"
      ]
     },
     "execution_count": 32,
     "metadata": {},
     "output_type": "execute_result"
    }
   ],
   "source": [
    "tmp_test[tmp_test > 0.5] = 1\n",
    "tmp_test"
   ]
  },
  {
   "cell_type": "code",
   "execution_count": 37,
   "metadata": {},
   "outputs": [
    {
     "name": "stdout",
     "output_type": "stream",
     "text": [
      "[[ 0.22353348  0.62078822  0.43637755 -0.57670196 -0.51569826]\n",
      " [ 0.62478544  0.0755934  -0.13657937 -0.69076956 -0.9256024 ]]\n"
     ]
    },
    {
     "data": {
      "text/plain": [
       "array([ 0.62078822, -0.57670196, -0.51569826,  0.62478544, -0.69076956,\n",
       "       -0.9256024 ])"
      ]
     },
     "execution_count": 37,
     "metadata": {},
     "output_type": "execute_result"
    }
   ],
   "source": [
    "# 多重选择\n",
    "tmp_test = stock_day_change[-2:, -5:]\n",
    "print(tmp_test)\n",
    "tmp_test[(tmp_test > 0.5) | (tmp_test < -0.5)]"
   ]
  },
  {
   "cell_type": "markdown",
   "metadata": {},
   "source": [
    "### 3.1.6通用序列函数"
   ]
  },
  {
   "cell_type": "markdown",
   "metadata": {},
   "source": [
    "#### 1 np.all()函数"
   ]
  },
  {
   "cell_type": "code",
   "execution_count": 38,
   "metadata": {},
   "outputs": [
    {
     "data": {
      "text/plain": [
       "False"
      ]
     },
     "execution_count": 38,
     "metadata": {},
     "output_type": "execute_result"
    }
   ],
   "source": [
    "# np.all判断序列中的所有元素是否全部是True，即对bool序列进行操作\n",
    "# 本例实际判断stock_day_change[:2, :5]中是否全是上涨的\n",
    "np.all(stock_day_change[:2, :5] > 0)"
   ]
  },
  {
   "cell_type": "markdown",
   "metadata": {},
   "source": [
    "#### 2 np.any()函数"
   ]
  },
  {
   "cell_type": "code",
   "execution_count": 39,
   "metadata": {},
   "outputs": [
    {
     "data": {
      "text/plain": [
       "True"
      ]
     },
     "execution_count": 39,
     "metadata": {},
     "output_type": "execute_result"
    }
   ],
   "source": [
    "# np.any判断序列中是否有元素为true，即对bool序列进行或操作\n",
    "# 本例实际判断stock_day_change[:2, :5]中是至少有一个是上涨的\n",
    "np.any(stock_day_change[:2, :5] > 0)"
   ]
  },
  {
   "cell_type": "markdown",
   "metadata": {},
   "source": [
    "#### 3 maximum()与minimum()函数"
   ]
  },
  {
   "cell_type": "code",
   "execution_count": 40,
   "metadata": {},
   "outputs": [
    {
     "data": {
      "text/plain": [
       "array([[0.22353348, 0.67674347, 0.43637755, 0.15115891, 0.23403297],\n",
       "       [0.62478544, 1.43092102, 2.51425444, 0.51147235, 0.32968961]])"
      ]
     },
     "execution_count": 40,
     "metadata": {},
     "output_type": "execute_result"
    }
   ],
   "source": [
    "# 对两个序列对应的元素两两比较，maximum()结果集取大，minimum()为取小的结果集\n",
    "np.maximum(stock_day_change[:2, :5], stock_day_change[-2:, -5:])"
   ]
  },
  {
   "cell_type": "code",
   "execution_count": 41,
   "metadata": {},
   "outputs": [
    {
     "data": {
      "text/plain": [
       "array([[-0.01455101,  0.62078822, -0.87916471, -0.57670196, -0.51569826],\n",
       "       [-1.51872267,  0.0755934 , -0.13657937, -0.69076956, -0.9256024 ]])"
      ]
     },
     "execution_count": 41,
     "metadata": {},
     "output_type": "execute_result"
    }
   ],
   "source": [
    "# 对两个序列对应的元素两两比较，maximum()结果集取大，minimum()为取小的结果集\n",
    "np.minimum(stock_day_change[:2, :5], stock_day_change[-2:, -5:])"
   ]
  },
  {
   "cell_type": "markdown",
   "metadata": {},
   "source": [
    "#### 4 np.unique()函数"
   ]
  },
  {
   "cell_type": "code",
   "execution_count": 42,
   "metadata": {},
   "outputs": [
    {
     "name": "stdout",
     "output_type": "stream",
     "text": [
      "[[ 0  0  0  0  0]\n",
      " [-1  1  2  0  0]]\n"
     ]
    },
    {
     "data": {
      "text/plain": [
       "array([-1,  0,  1,  2])"
      ]
     },
     "execution_count": 42,
     "metadata": {},
     "output_type": "execute_result"
    }
   ],
   "source": [
    "change_int = stock_day_change[:2, :5].astype(int)\n",
    "print(change_int)\n",
    "# 序列中数值值唯一且不重复的值组成新的序列\n",
    "np.unique(change_int)"
   ]
  },
  {
   "cell_type": "markdown",
   "metadata": {},
   "source": [
    "#### 5 np.diff()函数"
   ]
  },
  {
   "cell_type": "code",
   "execution_count": 44,
   "metadata": {},
   "outputs": [
    {
     "name": "stdout",
     "output_type": "stream",
     "text": [
      "[[-0.01455101  0.67674347 -0.87916471  0.15115891  0.23403297]\n",
      " [-1.51872267  1.43092102  2.51425444  0.51147235  0.32968961]]\n"
     ]
    },
    {
     "data": {
      "text/plain": [
       "array([[ 0.69129448, -1.55590818,  1.03032362,  0.08287406],\n",
       "       [ 2.94964368,  1.08333343, -2.00278209, -0.18178275]])"
      ]
     },
     "execution_count": 44,
     "metadata": {},
     "output_type": "execute_result"
    }
   ],
   "source": [
    "# axis = 1代表行操作，diff()后面减前面\n",
    "print(stock_day_change[:2, :5])\n",
    "np.diff(stock_day_change[:2, :5])"
   ]
  },
  {
   "cell_type": "code",
   "execution_count": 45,
   "metadata": {},
   "outputs": [
    {
     "name": "stdout",
     "output_type": "stream",
     "text": [
      "[[-0.01455101  0.67674347 -0.87916471  0.15115891  0.23403297]\n",
      " [-1.51872267  1.43092102  2.51425444  0.51147235  0.32968961]]\n"
     ]
    },
    {
     "data": {
      "text/plain": [
       "array([[-1.50417165,  0.75417755,  3.39341916,  0.36031344,  0.09565663]])"
      ]
     },
     "execution_count": 45,
     "metadata": {},
     "output_type": "execute_result"
    }
   ],
   "source": [
    "# axis = 0代表列操作，diff()后面减前面\n",
    "print(stock_day_change[:2, :5])\n",
    "np.diff(stock_day_change[:2, :5], axis=0)"
   ]
  },
  {
   "cell_type": "markdown",
   "metadata": {},
   "source": [
    "#### 6 np.where()函数"
   ]
  },
  {
   "cell_type": "code",
   "execution_count": 47,
   "metadata": {},
   "outputs": [
    {
     "name": "stdout",
     "output_type": "stream",
     "text": [
      "[[ 0.22353348  0.62078822  0.43637755 -0.57670196 -0.51569826]\n",
      " [ 0.62478544  0.0755934  -0.13657937 -0.69076956 -0.9256024 ]]\n",
      "[[0 1 0 0 0]\n",
      " [1 0 0 0 0]]\n"
     ]
    }
   ],
   "source": [
    "tmp_test = stock_day_change[-2:, -5:]\n",
    "print(tmp_test)\n",
    "# 涨幅大于0.5的标识为1，其他的都为0\n",
    "print(np.where(tmp_test > 0.5, 1, 0))"
   ]
  },
  {
   "cell_type": "code",
   "execution_count": 48,
   "metadata": {},
   "outputs": [
    {
     "name": "stdout",
     "output_type": "stream",
     "text": [
      "[[ 0.22353348  0.62078822  0.43637755 -0.57670196 -0.51569826]\n",
      " [ 0.62478544  0.0755934  -0.13657937 -0.69076956 -0.9256024 ]]\n",
      "[[ 0.22353348  1.          0.43637755 -0.57670196 -0.51569826]\n",
      " [ 1.          0.0755934  -0.13657937 -0.69076956 -0.9256024 ]]\n"
     ]
    }
   ],
   "source": [
    "tmp_test = stock_day_change[-2:, -5:]\n",
    "print(tmp_test)\n",
    "# 涨幅大于0.5的标识为1，其他的都保持不变\n",
    "print(np.where(tmp_test > 0.5, 1, tmp_test))"
   ]
  },
  {
   "cell_type": "code",
   "execution_count": 49,
   "metadata": {},
   "outputs": [
    {
     "data": {
      "text/plain": [
       "array([[0, 1, 0, 0, 0],\n",
       "       [1, 0, 0, 0, 0]])"
      ]
     },
     "execution_count": 49,
     "metadata": {},
     "output_type": "execute_result"
    }
   ],
   "source": [
    "# 如果逻辑表达式为复合逻辑条件，则使用np.logical_and()和np.logical_or\n",
    "# 将序列中的值大于0.5并且小于1的赋值为1，否则赋值为0\n",
    "np.where(np.logical_and(tmp_test > 0.5, tmp_test < 1), 1, 0)"
   ]
  },
  {
   "cell_type": "code",
   "execution_count": 50,
   "metadata": {},
   "outputs": [
    {
     "data": {
      "text/plain": [
       "array([[0, 1, 0, 1, 1],\n",
       "       [1, 0, 0, 1, 1]])"
      ]
     },
     "execution_count": 50,
     "metadata": {},
     "output_type": "execute_result"
    }
   ],
   "source": [
    "# 序列中的值大于0.5或者小于-0.5的赋值为1，否则赋值为0\n",
    "np.where(np.logical_or(tmp_test > 0.5, tmp_test < -0.5), 1, 0)"
   ]
  },
  {
   "cell_type": "markdown",
   "metadata": {},
   "source": [
    "### 3.1.7数据本地序列化操作"
   ]
  },
  {
   "cell_type": "code",
   "execution_count": 51,
   "metadata": {},
   "outputs": [],
   "source": [
    "np.save('stock_day_change', stock_day_change)"
   ]
  },
  {
   "cell_type": "code",
   "execution_count": 56,
   "metadata": {},
   "outputs": [
    {
     "data": {
      "text/plain": [
       "array([[-0.01455101,  0.67674347, -0.87916471, ...,  0.14683054,\n",
       "        -0.99878825,  0.40920057],\n",
       "       [-1.51872267,  1.43092102,  2.51425444, ...,  0.08747479,\n",
       "        -0.47514721,  0.61993226],\n",
       "       [-1.42679913,  0.30253676, -1.62453837, ..., -1.82044916,\n",
       "         0.34573823,  0.92095842],\n",
       "       ...,\n",
       "       [ 1.1677692 ,  0.01068707, -0.06158697, ...,  1.67657967,\n",
       "        -0.79150391,  1.94680936],\n",
       "       [-0.28358916,  1.45284617, -0.09683089, ...,  0.43637755,\n",
       "        -0.57670196, -0.51569826],\n",
       "       [-0.81589322,  0.98807332, -2.11475845, ..., -0.13657937,\n",
       "        -0.69076956, -0.9256024 ]])"
      ]
     },
     "execution_count": 56,
     "metadata": {},
     "output_type": "execute_result"
    }
   ],
   "source": [
    "stock_day_change = np.load('stock_day_change.npy')\n",
    "stock_day_change"
   ]
  }
 ],
 "metadata": {
  "kernelspec": {
   "display_name": "Python 3",
   "language": "python",
   "name": "python3"
  },
  "language_info": {
   "codemirror_mode": {
    "name": "ipython",
    "version": 3
   },
   "file_extension": ".py",
   "mimetype": "text/x-python",
   "name": "python",
   "nbconvert_exporter": "python",
   "pygments_lexer": "ipython3",
   "version": "3.7.6"
  }
 },
 "nbformat": 4,
 "nbformat_minor": 4
}
